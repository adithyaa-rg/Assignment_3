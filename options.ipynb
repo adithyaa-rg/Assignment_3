{
 "cells": [
  {
   "cell_type": "code",
   "execution_count": 23,
   "metadata": {},
   "outputs": [],
   "source": [
    "import numpy as np\n",
    "from tqdm import tqdm\n",
    "import random\n",
    "import gymnasium as gym\n",
    "# from gym.wrappers import Monitor\n",
    "import glob\n",
    "import io\n",
    "import matplotlib.pyplot as plt\n",
    "from IPython.display import HTML\n",
    "from collections import deque"
   ]
  },
  {
   "cell_type": "code",
   "execution_count": 24,
   "metadata": {},
   "outputs": [
    {
     "name": "stdout",
     "output_type": "stream",
     "text": [
      "54\n",
      "decoded state\n",
      "[0, 2, 3, 2]\n",
      "500\n",
      "6\n",
      "decoded state\n",
      "[0, 2, 3, 2]\n"
     ]
    },
    {
     "name": "stderr",
     "output_type": "stream",
     "text": [
      "c:\\Users\\maste\\AppData\\Local\\Programs\\Python\\Python310\\lib\\site-packages\\gymnasium\\core.py:311: UserWarning: \u001b[33mWARN: env.decode to get variables from other wrappers is deprecated and will be removed in v1.0, to get this variable you can do `env.unwrapped.decode` for environment variables or `env.get_wrapper_attr('decode')` that will search the reminding wrappers.\u001b[0m\n",
      "  logger.warn(\n"
     ]
    },
    {
     "data": {
      "text/plain": [
       "'+---------+\\n|R: |\\x1b[43m \\x1b[0m: :G|\\n| : | : : |\\n| : : : : |\\n| | : | : |\\n|\\x1b[35mY\\x1b[0m| : |\\x1b[34;1mB\\x1b[0m: |\\n+---------+\\n  (North)\\n'"
      ]
     },
     "execution_count": 24,
     "metadata": {},
     "output_type": "execute_result"
    }
   ],
   "source": [
    "#Setting up the environment\n",
    "env = gym.make('Taxi-v3', render_mode='ansi')\n",
    "state, _ = env.reset()\n",
    "\n",
    "# The state of the environment\n",
    "print(state)\n",
    "\n",
    "print(\"decoded state\")\n",
    "print(list(env.decode(state)))\n",
    "\n",
    "\n",
    "#The number of states in the environment\n",
    "print(env.observation_space.n)\n",
    "\n",
    "#The number of actions in the environment\n",
    "print(env.action_space.n)\n",
    "\n",
    "#Take a step in the environment\n",
    "next_state, reward, done, _, _ = env.step(1)\n",
    "print(\"decoded state\")\n",
    "print(list(env.decode(next_state)))\n",
    "\n",
    "#Render the environment\n",
    "env.render()"
   ]
  },
  {
   "cell_type": "code",
   "execution_count": 25,
   "metadata": {},
   "outputs": [
    {
     "name": "stdout",
     "output_type": "stream",
     "text": [
      "(500, 6)\n"
     ]
    }
   ],
   "source": [
    "total_options = 10\n",
    "# actions:  ['up', 'right', 'down', 'left', 'pickup', 'dropoff']\n",
    "actions = [0, 1, 2, 3, 4, 5]\n",
    "# options: ['toR', 'toG', 'toY', 'toB']\n",
    "options = [6, 7, 8, 9]\n",
    "goal_states = [[0, 0], [0, 4], [4, 0], [4, 3]]\n",
    "Q_values = np.zeros((env.observation_space.n, total_options))\n",
    "Q_options = np.zeros((len(options), 25, 4))\n",
    "print(Q_values.T[:6].T.shape)\n",
    "\n",
    "# Softmax function\n",
    "def softmax(Q_values, state, tau):\n",
    "    q_values = Q_values[state]\n",
    "    q_values = q_values / tau\n",
    "    max_q = np.max(q_values)\n",
    "    e = np.exp(q_values - max_q)\n",
    "    dist = e / np.sum(e)\n",
    "    action = np.random.choice(len(dist), p=dist)\n",
    "    return action"
   ]
  },
  {
   "cell_type": "code",
   "execution_count": 26,
   "metadata": {},
   "outputs": [],
   "source": [
    "def execute_option(Q_values, option, state):\n",
    "    optdone = False\n",
    "    optact = 0\n",
    "\n",
    "    decoded_state = list(env.decode(state))\n",
    "    if decoded_state[0:2] == goal_states[option - 6]:\n",
    "        optdone = True\n",
    "    optact = softmax(Q_values=Q_options[option - 6], state=5*decoded_state[0] + decoded_state[1], tau=0.1)\n",
    "\n",
    "    return optact, optdone"
   ]
  },
  {
   "cell_type": "code",
   "execution_count": 27,
   "metadata": {},
   "outputs": [
    {
     "name": "stderr",
     "output_type": "stream",
     "text": [
      "100%|██████████| 5000/5000 [00:14<00:00, 336.57it/s]\n"
     ]
    }
   ],
   "source": [
    "#### SMDP Q-Learning\n",
    "action_visits = np.zeros((total_options))\n",
    "episodes = 5000\n",
    "total_rewards = np.zeros((episodes))\n",
    "# Add parameters you might need here\n",
    "gamma = 0.99\n",
    "alpha = 0.1\n",
    "# Iterate over 1000 episodes\n",
    "for i in tqdm(range(episodes)):\n",
    "    state, _ = env.reset()    \n",
    "    done = False\n",
    "    # While episode is not over\n",
    "    while not done:\n",
    "        \n",
    "        # Choose action        \n",
    "        action = softmax(Q_values, state, tau=1)\n",
    "        action_visits[action] += 1\n",
    "\n",
    "        # Checking if primitive action\n",
    "        if action < 6:\n",
    "            # Perform regular Q-Learning update for state-action pair\n",
    "            next_state, reward, done, _, _ = env.step(action)\n",
    "            Q_values[state, action] += alpha * (reward + gamma * np.max(Q_values[next_state]) - Q_values[state, action])\n",
    "            state = next_state\n",
    "            total_rewards[i] += reward\n",
    "            \n",
    "            \n",
    "        # Checking if action chosen is an option\n",
    "        reward_bar = 0\n",
    "        if action >= 6: # action => Away option\n",
    "            count = 0\n",
    "            optdone = False\n",
    "            current_state = state\n",
    "            while (optdone == False):\n",
    "                optact,optdone = execute_option(Q_options, action, state)\n",
    "                next_state, reward, done, _, _ = env.step(optact)\n",
    "\n",
    "                decoded_state = list(env.decode(state)) \n",
    "                decoded_next_state = list(env.decode(next_state))\n",
    "\n",
    "                decoded_state_grid_pos = 5*decoded_state[0] + decoded_state[1]\n",
    "                decoded_next_state_grid_pos = 5*decoded_next_state[0] + decoded_next_state[1]\n",
    "\n",
    "                goal = goal_states[action - 6]\n",
    "                \n",
    "                pseudo_reward = 30 if decoded_next_state[0:2] == goal else 0\n",
    "\n",
    "                Q_options[action - 6, decoded_state_grid_pos, optact] += alpha * (reward + pseudo_reward + gamma * np.max(Q_options[action - 6, decoded_next_state_grid_pos]) - Q_options[action - 6, decoded_state_grid_pos, optact ])\n",
    "\n",
    "                reward_bar = reward_bar + gamma**count*reward\n",
    "                count += 1\n",
    "                if optdone == True:\n",
    "                    total_rewards[i] += reward_bar\n",
    "                    Q_values[current_state, action] += alpha * (reward_bar - Q_values[current_state, action] + gamma**count * np.max(Q_values[next_state]))\n",
    "                state = next_state\n"
   ]
  },
  {
   "cell_type": "code",
   "execution_count": 28,
   "metadata": {},
   "outputs": [],
   "source": [
    "def plot_rewards(rewards):\n",
    "    avg_rew = []\n",
    "    plt.figure(\"Reward Plot\")\n",
    "    scores_window = deque(maxlen=300)\n",
    "    for reward in rewards:\n",
    "        scores_window.append(reward)\n",
    "        avg_rew.append(np.mean(scores_window))\n",
    "    plt.plot(avg_rew)\n",
    "    plt.xlabel('Episodes')\n",
    "    plt.ylabel('Average Reward')\n",
    "    plt.ylim(-200, 200)  # Set the Y-axis range\n"
   ]
  },
  {
   "cell_type": "code",
   "execution_count": 29,
   "metadata": {},
   "outputs": [
    {
     "name": "stdout",
     "output_type": "stream",
     "text": [
      "3.8767031578990445\n"
     ]
    },
    {
     "data": {
      "image/png": "[encoded data removed]",
      "text/plain": [
       "<Figure size 640x480 with 1 Axes>"
      ]
     },
     "metadata": {},
     "output_type": "display_data"
    }
   ],
   "source": [
    "plot_rewards(total_rewards)\n",
    "print(np.mean(total_rewards[-100:]))"
   ]
  },
  {
   "cell_type": "code",
   "execution_count": 30,
   "metadata": {},
   "outputs": [],
   "source": [
    "def options_plot(Q_options):\n",
    "    GOAL_STATES = [[0, 0], [0, 4], [4, 0], [4, 3]]\n",
    "    actions = ['up', 'right', 'down', 'left']\n",
    "    integer = 0\n",
    "    for i in Q_options:\n",
    "        Q_map = np.zeros((5,5))\n",
    "        for j in range(25):\n",
    "            Q_map[j//5, j%5] = np.argmax(i[j])\n",
    "\n",
    "        fig, ax = plt.subplots()\n",
    "        ax.imshow(Q_map, cmap='hot')\n",
    "\n",
    "        # Plot goal states in green\n",
    "        ax.add_patch(plt.Rectangle((GOAL_STATES[integer][1]-0.5, GOAL_STATES[integer][0]-0.5), 1, 1, color='green'))\n",
    "        # for j in range(25):\n",
    "        #     ax.text(j%5, j//5, actions[int(Q_map[j//5, j%5])], color='white', fontsize=12, ha='center', va='center')\n",
    "        integer += 1\n",
    "        for x in range(5):\n",
    "            for y in range(5):\n",
    "                action = Q_map[x, y]\n",
    "                dx = 0\n",
    "                dy = 0\n",
    "                if action == 0:  # up\n",
    "                    dy = -0.4\n",
    "                elif action == 1:  # right\n",
    "                    dx = 0.4\n",
    "                elif action == 2:  # down\n",
    "                    dy = 0.4\n",
    "                elif action == 3:  # left\n",
    "                    dx = -0.4\n",
    "\n",
    "                ax.annotate(\"\", xy=(y+dx, x+dy), xytext=(y, x),\n",
    "                            arrowprops=dict(arrowstyle=\"->\", color='blue'))"
   ]
  },
  {
   "cell_type": "code",
   "execution_count": 39,
   "metadata": {},
   "outputs": [
    {
     "name": "stdout",
     "output_type": "stream",
     "text": [
      "[-4.73107826e-01  1.26913844e+03 -5.70873183e-01 -5.10899143e-01]\n"
     ]
    },
    {
     "data": {
      "image/png": "[encoded data removed]",
      "text/plain": [
       "<Figure size 640x480 with 1 Axes>"
      ]
     },
     "metadata": {},
     "output_type": "display_data"
    },
    {
     "data": {
      "image/png": "[encoded data removed]",
      "text/plain": [
       "<Figure size 640x480 with 1 Axes>"
      ]
     },
     "metadata": {},
     "output_type": "display_data"
    },
    {
     "data": {
      "image/png": "[encoded data removed]",
      "text/plain": [
       "<Figure size 640x480 with 1 Axes>"
      ]
     },
     "metadata": {},
     "output_type": "display_data"
    },
    {
     "data": {
      "image/png": "[encoded data removed]",
      "text/plain": [
       "<Figure size 640x480 with 1 Axes>"
      ]
     },
     "metadata": {},
     "output_type": "display_data"
    }
   ],
   "source": [
    "options_plot(Q_options)\n",
    "print(np.argmax(Q_options[0][3]))"
   ]
  },
  {
   "cell_type": "code",
   "execution_count": 32,
   "metadata": {},
   "outputs": [
    {
     "data": {
      "text/plain": [
       "array([7087., 9823., 7042., 6803., 6335., 6357., 4152., 4365., 4567.,\n",
       "       4558.])"
      ]
     },
     "execution_count": 32,
     "metadata": {},
     "output_type": "execute_result"
    }
   ],
   "source": [
    "action_visits"
   ]
  },
  {
   "cell_type": "code",
   "execution_count": 33,
   "metadata": {},
   "outputs": [],
   "source": [
    "# # env = gym.make('Taxi-v3', render_mode='human')\n",
    "# state, _ = env.reset()    \n",
    "# done = False\n",
    "# rewards.append(0)\n",
    "# env.render()\n",
    "# while not done:\n",
    "        \n",
    "#         # Choose action        \n",
    "#         action = softmax(Q_values, state, tau=1)\n",
    "#         action_visits[action] += 1\n",
    "#         # Checking if primitive action\n",
    "#         if action < 6:\n",
    "#             # Perform regular Q-Learning update for state-action pair\n",
    "#             next_state, reward, done, _, _ = env.step(action)\n",
    "#             Q_values[state, action] += alpha * (reward + gamma * np.max(Q_values[next_state]) - Q_values[state, action])\n",
    "#             state = next_state\n",
    "#             rewards[i] += reward\n",
    "            \n",
    "            \n",
    "#         # Checking if action chosen is an option\n",
    "#         reward_bar = 0\n",
    "#         if action >= 6: # action => Away option\n",
    "#             count = 0\n",
    "#             optdone = False\n",
    "#             optact = 11\n",
    "#             current_state = state\n",
    "#             while (optdone == False):\n",
    "#                 optact,optdone = execute_option(Q_options , action, state)\n",
    "#                 next_state, reward, done, _, _ = env.step(optact)\n",
    "\n",
    "#                 decoded_state = list(env.decode(state))\n",
    "#                 decoded_next_state = list(env.decode(next_state))\n",
    "\n",
    "#                 decoded_state_state = 5*decoded_state[0] + decoded_state[1]\n",
    "#                 decoded_next_state_state = 5*decoded_next_state[0] + decoded_next_state[1]\n",
    "\n",
    "#                 Q_options[ action - 6, decoded_state_state, optact] += alpha * (reward + gamma * np.max(Q_options[action - 6, decoded_next_state_state]) - Q_options[action - 6, decoded_state_state, optact ])\n",
    "\n",
    "#                 reward_bar = reward_bar + gamma**count*reward\n",
    "#                 count += 1\n",
    "#                 rewards[i] += reward_bar\n",
    "#                 if optdone == True:\n",
    "#                     Q_values[current_state, action] += alpha * (reward_bar - Q_values[current_state, action] + gamma**count * np.max(Q_values[next_state]))\n",
    "#                 state = next_state"
   ]
  },
  {
   "cell_type": "code",
   "execution_count": null,
   "metadata": {},
   "outputs": [],
   "source": []
  }
 ],
 "metadata": {
  "kernelspec": {
   "display_name": "rl",
   "language": "python",
   "name": "python3"
  },
  "language_info": {
   "codemirror_mode": {
    "name": "ipython",
    "version": 3
   },
   "file_extension": ".py",
   "mimetype": "text/x-python",
   "name": "python",
   "nbconvert_exporter": "python",
   "pygments_lexer": "ipython3",
   "version": "3.10.0"
  }
 },
 "nbformat": 4,
 "nbformat_minor": 2
}
