{
 "cells": [
  {
   "cell_type": "code",
   "execution_count": 1,
   "metadata": {},
   "outputs": [],
   "source": [
    "import numpy as np\n",
    "from tqdm import tqdm\n",
    "import random\n",
    "import gymnasium as gym\n",
    "# from gym.wrappers import Monitor\n",
    "import glob\n",
    "import io\n",
    "import matplotlib.pyplot as plt\n",
    "from IPython.display import HTML\n",
    "from collections import deque"
   ]
  },
  {
   "cell_type": "code",
   "execution_count": 2,
   "metadata": {},
   "outputs": [
    {
     "name": "stdout",
     "output_type": "stream",
     "text": [
      "107\n",
      "decoded state\n",
      "[1, 0, 1, 3]\n",
      "500\n",
      "6\n",
      "decoded state\n",
      "[0, 0, 1, 3]\n"
     ]
    },
    {
     "name": "stderr",
     "output_type": "stream",
     "text": [
      "/home/adi/miniconda3/envs/rl/lib/python3.11/site-packages/gymnasium/core.py:311: UserWarning: \u001b[33mWARN: env.decode to get variables from other wrappers is deprecated and will be removed in v1.0, to get this variable you can do `env.unwrapped.decode` for environment variables or `env.get_wrapper_attr('decode')` that will search the reminding wrappers.\u001b[0m\n",
      "  logger.warn(\n"
     ]
    },
    {
     "data": {
      "text/plain": [
       "'+---------+\\n|\\x1b[43mR\\x1b[0m: | : :\\x1b[34;1mG\\x1b[0m|\\n| : | : : |\\n| : : : : |\\n| | : | : |\\n|Y| : |\\x1b[35mB\\x1b[0m: |\\n+---------+\\n  (North)\\n'"
      ]
     },
     "execution_count": 2,
     "metadata": {},
     "output_type": "execute_result"
    }
   ],
   "source": [
    "#Setting up the environment\n",
    "env = gym.make('Taxi-v3', render_mode='ansi')\n",
    "state, _ = env.reset()\n",
    "\n",
    "# The state of the environment\n",
    "print(state)\n",
    "\n",
    "print(\"decoded state\")\n",
    "print(list(env.decode(state)))\n",
    "\n",
    "\n",
    "#The number of states in the environment\n",
    "print(env.observation_space.n)\n",
    "\n",
    "#The number of actions in the environment\n",
    "print(env.action_space.n)\n",
    "\n",
    "#Take a step in the environment\n",
    "next_state, reward, done, _, _ = env.step(1)\n",
    "print(\"decoded state\")\n",
    "print(list(env.decode(next_state)))\n",
    "\n",
    "#Render the environment\n",
    "env.render()"
   ]
  },
  {
   "cell_type": "markdown",
   "metadata": {},
   "source": [
    "[![Options](https://www.researchgate.net/publication/292208109/figure/fig2/AS:960497125978114@1606011768506/Taxi-problem-and-an-action-hierarchy.gif)]"
   ]
  },
  {
   "cell_type": "code",
   "execution_count": 3,
   "metadata": {},
   "outputs": [],
   "source": [
    "# actions:  ['down', 'up', 'right', 'left', 'pickup', 'dropoff']\n",
    "actions = [0, 1, 2, 3, 4, 5]\n",
    "\n",
    "\n",
    "goal_states = [[0, 0], [0, 4], [4, 0], [4, 3]]\n",
    "\n",
    "level_1_options = [1, 2]\n",
    "# highest level options: ['get', 'put']\n",
    "\n",
    "get_options = [3, 4, 5, 6, 7]\n",
    "# get options: ['pickup', 'getR', 'getG', 'getY', 'getB']\n",
    "\n",
    "put_options = [3, 4, 5, 6, 7]\n",
    "# put options: ['dropoff', 'putR', 'putG', 'putY', 'putB']\n",
    "\n",
    "navigate_options = [8, 9, 10, 11]\n",
    "# navigate options: ['down', 'up', 'right', 'left']\n",
    "\n",
    "Q_values = np.zeros((env.observation_space.n, len(level_1_options))) # Q-values for level 1 options -> get, put\n",
    "\n",
    "Q_level_two_options = np.zeros((2, env.observation_space.n, len(get_options))) # Q-values for level options -> pickup/dropoff, getR/getG/getY/getB\n",
    "\n",
    "Q_level_three_options = np.zeros((4, env.observation_space.n, len(navigate_options))) # Q-values for level options -> down, up, right, left\n",
    "\n",
    "\n",
    "# Softmax function\n",
    "def softmax(Q, state, tau):\n",
    "    q_values = Q[state]\n",
    "    q_values = q_values / tau\n",
    "    max_q = np.max(q_values)\n",
    "    e = np.exp(q_values - max_q)\n",
    "    dist = e / np.sum(e)\n",
    "    action = np.random.choice(len(dist), p=dist)\n",
    "    return action\n",
    "\n",
    "def epsilon_greedy(Q, state, epsilon):\n",
    "    if random.uniform(0, 1) < epsilon:\n",
    "        action = np.random.randint(0, 4)\n",
    "    else:\n",
    "        action = np.argmax(Q[state])\n",
    "    return action"
   ]
  },
  {
   "cell_type": "code",
   "execution_count": null,
   "metadata": {},
   "outputs": [],
   "source": [
    "def decode_state(env, state):\n",
    "    return list(env.decode(state))"
   ]
  },
  {
   "cell_type": "code",
   "execution_count": null,
   "metadata": {},
   "outputs": [],
   "source": [
    "### HYPERPARAMETERS ###\n",
    "ALPHA_Q = 0.1\n",
    "ALPHA_OPTIONS = 0.3\n",
    "GAMMA = 0.9\n",
    "TAU = 0.7\n",
    "DECAY_CONSTANT = 0.995"
   ]
  },
  {
   "cell_type": "code",
   "execution_count": null,
   "metadata": {},
   "outputs": [],
   "source": [
    "def execute_option(env, Q_values, Q_options, Q_freq, option_freq, option, state, update_Q=True, policy = softmax):\n",
    "    pass"
   ]
  },
  {
   "cell_type": "code",
   "execution_count": null,
   "metadata": {},
   "outputs": [],
   "source": [
    "#### SMDP Q-Learning\n",
    "episodes = 10000\n",
    "\n",
    "main_update_freq = np.zeros(Q_values.shape)\n",
    "option_update_freq = np.zeros(Q_options.shape)\n",
    "\n",
    "\n",
    "def SMDP_Q_Learning(env, Q_values, Q_options, main_update_freq, option_update_freq, episodes, policy=softmax, update_Q = True,TAU = TAU):\n",
    "    # Iterate over 1000 episodes\n",
    "    total_rewards = np.zeros((episodes))\n",
    "    for i in tqdm(range(episodes)):\n",
    "        state, _ = env.reset()    \n",
    "        done = False\n",
    "        # While episode is not over\n",
    "        while not done:\n",
    "            # Choose action        \n",
    "            action = policy(Q_values, state, TAU)\n",
    "            # Execute action\n",
    "            next_state, reward, done, value_array = execute_option(env, Q_values, Q_options, main_update_freq, option_update_freq, action, state, update_Q=update_Q, policy=policy)\n",
    "            Q_values, Q_options, main_update_freq, option_update_freq = value_array\n",
    "            state = next_state\n",
    "            total_rewards[i] += reward\n",
    "        TAU = max(0.01, TAU * DECAY_CONSTANT)\n",
    "    return Q_values, Q_options, main_update_freq, option_update_freq, total_rewards\n"
   ]
  }
 ],
 "metadata": {
  "kernelspec": {
   "display_name": "rl",
   "language": "python",
   "name": "python3"
  },
  "language_info": {
   "codemirror_mode": {
    "name": "ipython",
    "version": 3
   },
   "file_extension": ".py",
   "mimetype": "text/x-python",
   "name": "python",
   "nbconvert_exporter": "python",
   "pygments_lexer": "ipython3",
   "version": "3.11.7"
  }
 },
 "nbformat": 4,
 "nbformat_minor": 2
}
