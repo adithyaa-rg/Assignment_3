{
 "cells": [
  {
   "cell_type": "code",
   "execution_count": 82,
   "metadata": {},
   "outputs": [],
   "source": [
    "import numpy as np\n",
    "from tqdm import tqdm\n",
    "import random\n",
    "import gymnasium as gym\n",
    "# from gym.wrappers import Monitor\n",
    "import glob\n",
    "import io\n",
    "import matplotlib.pyplot as plt\n",
    "from IPython.display import HTML\n",
    "from collections import deque"
   ]
  },
  {
   "cell_type": "code",
   "execution_count": 83,
   "metadata": {},
   "outputs": [
    {
     "name": "stdout",
     "output_type": "stream",
     "text": [
      "408\n",
      "decoded state\n",
      "[4, 0, 2, 0]\n",
      "500\n",
      "6\n",
      "decoded state\n",
      "[3, 0, 2, 0]\n"
     ]
    },
    {
     "data": {
      "text/plain": [
       "'+---------+\\n|\\x1b[35mR\\x1b[0m: | : :G|\\n| : | : : |\\n| : : : : |\\n|\\x1b[43m \\x1b[0m| : | : |\\n|\\x1b[34;1mY\\x1b[0m| : |B: |\\n+---------+\\n  (North)\\n'"
      ]
     },
     "execution_count": 83,
     "metadata": {},
     "output_type": "execute_result"
    }
   ],
   "source": [
    "#Setting up the environment\n",
    "env = gym.make('Taxi-v3', render_mode='ansi')\n",
    "state, _ = env.reset()\n",
    "\n",
    "# The state of the environment\n",
    "print(state)\n",
    "\n",
    "print(\"decoded state\")\n",
    "print(list(env.decode(state)))\n",
    "\n",
    "\n",
    "#The number of states in the environment\n",
    "print(env.observation_space.n)\n",
    "\n",
    "#The number of actions in the environment\n",
    "print(env.action_space.n)\n",
    "\n",
    "#Take a step in the environment\n",
    "next_state, reward, done, _, _ = env.step(1)\n",
    "print(\"decoded state\")\n",
    "print(list(env.decode(next_state)))\n",
    "\n",
    "#Render the environment\n",
    "env.render()"
   ]
  },
  {
   "cell_type": "markdown",
   "metadata": {},
   "source": [
    "[![Options](https://www.researchgate.net/publication/292208109/figure/fig2/AS:960497125978114@1606011768506/Taxi-problem-and-an-action-hierarchy.gif)]"
   ]
  },
  {
   "cell_type": "code",
   "execution_count": 84,
   "metadata": {},
   "outputs": [],
   "source": [
    "# actions:  ['down', 'up', 'right', 'left', 'pickup', 'dropoff']\n",
    "actions = [0, 1, 2, 3, 4, 5]\n",
    "\n",
    "\n",
    "goal_states = [[0, 0], [0, 4], [4, 0], [4, 3]]\n",
    "\n",
    "level_1_options = [0, 1]\n",
    "# highest level options: ['get', 'put']\n",
    "\n",
    "get_put_options = [0, 1, 2, 3, 4]\n",
    "# get options: ['pickup/dropff', 'getR', 'getG', 'getY', 'getB']\n",
    "\n",
    "\n",
    "navigate_options = [0, 1, 2, 3]\n",
    "# navigate options: ['down', 'up', 'right', 'left']\n",
    "Q_level_one_options = np.zeros((500, 2)) # Q-values for level options -> get/put\n",
    "\n",
    "Q_level_two_options = np.zeros((2, 500, len(get_put_options))) # Q-values for level options -> get/put, toR, toG, toY, toB\n",
    "\n",
    "Q_level_three_options = np.zeros((4, 25, len(navigate_options))) # Q-values for level options -> down, up, right, left\n",
    "\n",
    "\n",
    "# Softmax function\n",
    "def softmax(Q, state, tau):\n",
    "    q_values = Q[state]\n",
    "    q_values = q_values / tau\n",
    "    max_q = np.max(q_values)\n",
    "    e = np.exp(q_values - max_q)\n",
    "    dist = e / np.sum(e)\n",
    "    action = np.random.choice(len(dist), p=dist)\n",
    "    return action\n",
    "\n",
    "def epsilon_greedy(Q, state, epsilon):\n",
    "    if random.uniform(0, 1) < epsilon:\n",
    "        action = np.random.randint(0, 4)\n",
    "    else:\n",
    "        action = np.argmax(Q[state])\n",
    "    return action"
   ]
  },
  {
   "cell_type": "code",
   "execution_count": 85,
   "metadata": {},
   "outputs": [],
   "source": [
    "def decode_state(env, state):\n",
    "    return list(env.decode(state))"
   ]
  },
  {
   "cell_type": "code",
   "execution_count": 86,
   "metadata": {},
   "outputs": [],
   "source": [
    "### HYPERPARAMETERS ###\n",
    "ALPHA_Q = 0.2\n",
    "ALPHA_OPTIONS = 0.3\n",
    "ALPHA_OPTIONS_1 = 0.4\n",
    "GAMMA = 0.99\n",
    "TAU = 0.1\n",
    "DECAY_CONSTANT = 0.995"
   ]
  },
  {
   "cell_type": "code",
   "execution_count": 87,
   "metadata": {},
   "outputs": [],
   "source": [
    "def execute_level_1_selection(env, state, Q_level_one_options, Q_level_two_options, Q_level_three_options, option, policy, TAU):\n",
    "    \"\"\"\n",
    "    Execute the level 1 selection\n",
    "\n",
    "    Args:\n",
    "    env: the environment\n",
    "    state: the current state\n",
    "    level_1_options: the level 1 options\n",
    "    Q_level_two_options: Q-values for level 2 options\n",
    "    Q_level_three_options: Q-values for level 3 options\n",
    "    policy: the policy to use\n",
    "\n",
    "    Returns:\n",
    "    next_state: the next state\n",
    "    reward: the reward\n",
    "    done: is the episode done\n",
    "    Q_level_two_options: updated Q-values for level 2 options\n",
    "    Q_level_three_options: updated Q-values for level 3 options\n",
    "    \"\"\"\n",
    "    \n",
    "    \n",
    "    if option < 2:\n",
    "        \"\"\"\n",
    "        Get the Q-values for the level 2 options based on the option chosen\n",
    "        Initialize the reward bar to 0\n",
    "        Initialize the counter to 0\n",
    "        Initialize the current state to the current state\n",
    "        Get the Q-values for the chosen option\n",
    "        Update the Q-values for the chosen option based on the reward and the Q-values for the next state\n",
    "        \"\"\"\n",
    "        optdone = False\n",
    "        optact = 0\n",
    "        counter = 0\n",
    "        reward_bar = 0\n",
    "        chosen_q = Q_level_two_options[option]\n",
    "        current_state = state\n",
    "        steps = 0\n",
    "        while not optdone:\n",
    "            optact = policy(chosen_q, state, TAU)\n",
    "            next_state, reward, done, [Q_level_two_options, Q_level_three_options], pick_drop_flag, steps_level_2 = execute_level_2_options(env, Q_level_two_options, Q_level_three_options, state, option, optact, policy, TAU)\n",
    "            reward_bar += reward\n",
    "            steps += steps_level_2\n",
    "            chosen_q[state][optact] += ALPHA_OPTIONS * (reward + GAMMA * np.max(chosen_q[next_state]) - chosen_q[state][optact])\n",
    "            if pick_drop_flag:\n",
    "                # print(\"Enters here\")\n",
    "                optdone = True\n",
    "                Q_level_one_options[state][option] += ALPHA_Q * (reward_bar - Q_level_one_options[state][option] + GAMMA ** counter * np.max(Q_level_one_options[next_state]))\n",
    "            counter += 1\n",
    "            state = next_state\n",
    "        Q_level_two_options[option] = chosen_q\n",
    "        return next_state, reward, done, [Q_level_one_options, Q_level_two_options, Q_level_three_options], steps\n",
    "    else:\n",
    "        next_state, reward, done, _, _ = env.step(option-2)\n",
    "        Q_level_one_options[state][option] += ALPHA_Q * (reward - Q_level_one_options[state][option] + GAMMA * np.max(Q_level_one_options[next_state]))\n",
    "        steps = 1\n",
    "        return next_state, reward, done, [Q_level_one_options, Q_level_two_options, Q_level_three_options], steps\n",
    "\n",
    "\n",
    "def execute_level_2_options(env, Q_level_two_options, Q_level_three_options, state, option_level_1, option_level_2, policy, TAU):\n",
    "    \"\"\"\n",
    "    Execute the level 2 options\n",
    "\n",
    "    Args:\n",
    "    env: the environment\n",
    "    Q_level_two_options: Q-values for level 2 options\n",
    "    Q_level_three_options: Q-values for level 3 options \n",
    "    state: the current state\n",
    "    option: the selected option\n",
    "    level_1_option: the selected level 1 option\n",
    "    policy: the policy to use\n",
    "\n",
    "    Returns:\n",
    "    next_state: the next state\n",
    "    reward: the reward\n",
    "    done: is the episode done\n",
    "    Q_level_two_options: updated Q-values for level 2 options\n",
    "    Q_level_three_options: updated Q-values for level 3 options\n",
    "    \"\"\"\n",
    "    optdone = False\n",
    "    optact = 0\n",
    "    if option_level_2 == 0: # pickup/dropoff\n",
    "        \"\"\"\n",
    "        Pickup or dropoff\n",
    "        If level 1 option is get, and option is 0, then pickup(4)\n",
    "        If level 1 option is put, and option is 0, then dropoff(5)    \n",
    "        \"\"\"\n",
    "        if option_level_1 == 0:\n",
    "            chosen_action = 4\n",
    "        elif option_level_1 == 1:\n",
    "            chosen_action = 5\n",
    "        steps = 1\n",
    "\n",
    "        \"\"\"\n",
    "        Execute the action if it is pickup or dropoff\n",
    "        Update the Q-values for the level 2 options based on the reward (500, 5)\n",
    "        \"\"\"\n",
    "        next_state, reward, done, _, _ = env.step(chosen_action)\n",
    "        Q_level_two_options[option_level_1][state][option_level_2] +=  ALPHA_OPTIONS * (reward + GAMMA * np.max(Q_level_two_options[option_level_1][next_state]) - Q_level_two_options[option_level_1][state][option_level_2])\n",
    "        \"\"\"\n",
    "        If the next state is the goal state, then the option is done\n",
    "        Returns the next state, reward, done, Q-values for level 2 options, Q-values for level 3 options\n",
    "        \"\"\"\n",
    "        # print(\"Pickup or dropoff\")\n",
    "        return next_state, reward, done, [Q_level_two_options, Q_level_three_options], True, steps\n",
    "    \n",
    "    else: # getR, getG, getY, getB\n",
    "        \"\"\"\n",
    "        If the option is not pickup/dropoff, then it is getR, getG, getY, getB\n",
    "        Get the index of the chosen action\n",
    "        Initialize the reward bar to 0\n",
    "        Initialize the counter to 0\n",
    "        Initialize the current state to the current state\n",
    "        Based on the chosen action, get the Q-values for the chosen action (25, 4)\n",
    "        \"\"\"\n",
    "        reward_bar = 0\n",
    "        chosen_action_index = get_put_options.index(option_level_2) - 1\n",
    "        counter = 0\n",
    "        current_state = state\n",
    "        chosen_q = Q_level_three_options[chosen_action_index]\n",
    "        while not optdone:\n",
    "            \"\"\"\n",
    "            While the option is not done, do the following:\n",
    "            Decode the state\n",
    "            Get the state value\n",
    "            Get the action based on the policy and chosen Q-values(25, 4), state value, and tau \n",
    "            Execute the action\n",
    "            Get the next state value\n",
    "            Update the reward bar\n",
    "            Update the Q-values for the chosen action based on the reward and the Q-values for the next state\n",
    "            \"\"\"\n",
    "            state_value = 5 * decode_state(env, state)[0] + decode_state(env, state)[1]\n",
    "            optact = policy(chosen_q, state_value, TAU)\n",
    "            next_state, reward, done, _, _ = env.step(optact)\n",
    "            next_state_value = 5 * decode_state(env, next_state)[0] + decode_state(env, next_state)[1]\n",
    "            reward_bar += reward\n",
    "            chosen_q[state_value][optact] += ALPHA_OPTIONS_1 * (reward + GAMMA * np.max(chosen_q[next_state_value]) - chosen_q[state_value][optact])\n",
    "            if decode_state(env, next_state)[:2] == goal_states[chosen_action_index]:\n",
    "                \"\"\"\n",
    "                If the next state is the goal state, then the option is done\n",
    "                Update the Q-values for the level 2 options based on the reward bar and the Q-values for the next state based on the option chosen by level 3 options\n",
    "                \"\"\"\n",
    "                # print(\"Goal state reached\")\n",
    "                optdone = True\n",
    "                Q_level_two_options[option_level_1][current_state][option_level_2] += ALPHA_OPTIONS * \\\n",
    "                    (reward_bar - Q_level_two_options[option_level_1][current_state][option_level_2] + \\\n",
    "                     GAMMA ** counter * np.max(Q_level_two_options[option_level_1][next_state]))\n",
    "            counter += 1\n",
    "            state = next_state\n",
    "        Q_level_three_options[chosen_action_index] = chosen_q\n",
    "        steps = counter\n",
    "        return next_state, reward, done, [Q_level_two_options, Q_level_three_options], False, steps\n",
    "                \n",
    "            "
   ]
  },
  {
   "cell_type": "code",
   "execution_count": 88,
   "metadata": {},
   "outputs": [],
   "source": [
    "#### SMDP Q-Learning\n",
    "episodes = 2000\n",
    "\n",
    "\n",
    "def SMDP_Q_Learning(env, Q_level_one_options, Q_level_two_options, Q_level_three_options, policy, TAU, DECAY_CONSTANT, episodes):\n",
    "    # Iterate over 1000 episodes\n",
    "    total_rewards = np.zeros((episodes))\n",
    "    for i in tqdm(range(episodes)):\n",
    "        state, _ = env.reset()    \n",
    "        done = False\n",
    "        # While episode is not over\n",
    "        episode_steps = 0\n",
    "        while not done:\n",
    "            option = softmax(Q_level_one_options, state, TAU)\n",
    "            # Choose and execute the level 1 option\n",
    "            next_state, reward, done, value_array, steps = execute_level_1_selection(env, state, Q_level_one_options, Q_level_two_options, Q_level_three_options, option, policy, TAU)\n",
    "            Q_values_level_1, Q_values_level_2, Q_values_level_3 = value_array\n",
    "            state = next_state\n",
    "            total_rewards[i] += reward\n",
    "            TAU = max(0.01, TAU * DECAY_CONSTANT)\n",
    "            episode_steps += steps\n",
    "            # print(episode_steps)\n",
    "\n",
    "    return Q_values_level_1, Q_values_level_2, Q_values_level_3, total_rewards\n"
   ]
  },
  {
   "cell_type": "code",
   "execution_count": 89,
   "metadata": {},
   "outputs": [
    {
     "name": "stderr",
     "output_type": "stream",
     "text": [
      "  0%|          | 2/2000 [00:00<10:07,  3.29it/s]"
     ]
    },
    {
     "name": "stderr",
     "output_type": "stream",
     "text": [
      " 13%|█▎        | 260/2000 [01:13<08:11,  3.54it/s]\n"
     ]
    },
    {
     "ename": "KeyboardInterrupt",
     "evalue": "",
     "output_type": "error",
     "traceback": [
      "\u001b[0;31m---------------------------------------------------------------------------\u001b[0m",
      "\u001b[0;31mKeyboardInterrupt\u001b[0m                         Traceback (most recent call last)",
      "Cell \u001b[0;32mIn[89], line 1\u001b[0m\n\u001b[0;32m----> 1\u001b[0m Q_level_one_options, Q_level_two_options, Q_level_three_options, total_rewards \u001b[38;5;241m=\u001b[39m \u001b[43mSMDP_Q_Learning\u001b[49m\u001b[43m(\u001b[49m\u001b[43menv\u001b[49m\u001b[43m,\u001b[49m\u001b[43m \u001b[49m\u001b[43mQ_level_one_options\u001b[49m\u001b[43m,\u001b[49m\u001b[43m \u001b[49m\u001b[43mQ_level_two_options\u001b[49m\u001b[43m,\u001b[49m\u001b[43m \u001b[49m\u001b[43mQ_level_three_options\u001b[49m\u001b[43m,\u001b[49m\u001b[43m \u001b[49m\u001b[43mepsilon_greedy\u001b[49m\u001b[43m,\u001b[49m\u001b[43m \u001b[49m\u001b[43mTAU\u001b[49m\u001b[43m,\u001b[49m\u001b[43m \u001b[49m\u001b[43mDECAY_CONSTANT\u001b[49m\u001b[43m,\u001b[49m\u001b[43m \u001b[49m\u001b[43mepisodes\u001b[49m\u001b[43m)\u001b[49m\n",
      "Cell \u001b[0;32mIn[88], line 16\u001b[0m, in \u001b[0;36mSMDP_Q_Learning\u001b[0;34m(env, Q_level_one_options, Q_level_two_options, Q_level_three_options, policy, TAU, DECAY_CONSTANT, episodes)\u001b[0m\n\u001b[1;32m     14\u001b[0m option \u001b[38;5;241m=\u001b[39m softmax(Q_level_one_options, state, TAU)\n\u001b[1;32m     15\u001b[0m \u001b[38;5;66;03m# Choose and execute the level 1 option\u001b[39;00m\n\u001b[0;32m---> 16\u001b[0m next_state, reward, done, value_array, steps \u001b[38;5;241m=\u001b[39m \u001b[43mexecute_level_1_selection\u001b[49m\u001b[43m(\u001b[49m\u001b[43menv\u001b[49m\u001b[43m,\u001b[49m\u001b[43m \u001b[49m\u001b[43mstate\u001b[49m\u001b[43m,\u001b[49m\u001b[43m \u001b[49m\u001b[43mQ_level_one_options\u001b[49m\u001b[43m,\u001b[49m\u001b[43m \u001b[49m\u001b[43mQ_level_two_options\u001b[49m\u001b[43m,\u001b[49m\u001b[43m \u001b[49m\u001b[43mQ_level_three_options\u001b[49m\u001b[43m,\u001b[49m\u001b[43m \u001b[49m\u001b[43moption\u001b[49m\u001b[43m,\u001b[49m\u001b[43m \u001b[49m\u001b[43mpolicy\u001b[49m\u001b[43m,\u001b[49m\u001b[43m \u001b[49m\u001b[43mTAU\u001b[49m\u001b[43m)\u001b[49m\n\u001b[1;32m     17\u001b[0m Q_values_level_1, Q_values_level_2, Q_values_level_3 \u001b[38;5;241m=\u001b[39m value_array\n\u001b[1;32m     18\u001b[0m state \u001b[38;5;241m=\u001b[39m next_state\n",
      "Cell \u001b[0;32mIn[87], line 40\u001b[0m, in \u001b[0;36mexecute_level_1_selection\u001b[0;34m(env, state, Q_level_one_options, Q_level_two_options, Q_level_three_options, option, policy, TAU)\u001b[0m\n\u001b[1;32m     38\u001b[0m \u001b[38;5;28;01mwhile\u001b[39;00m \u001b[38;5;129;01mnot\u001b[39;00m optdone:\n\u001b[1;32m     39\u001b[0m     optact \u001b[38;5;241m=\u001b[39m policy(chosen_q, state, TAU)\n\u001b[0;32m---> 40\u001b[0m     next_state, reward, done, [Q_level_two_options, Q_level_three_options], pick_drop_flag, steps_level_2 \u001b[38;5;241m=\u001b[39m \u001b[43mexecute_level_2_options\u001b[49m\u001b[43m(\u001b[49m\u001b[43menv\u001b[49m\u001b[43m,\u001b[49m\u001b[43m \u001b[49m\u001b[43mQ_level_two_options\u001b[49m\u001b[43m,\u001b[49m\u001b[43m \u001b[49m\u001b[43mQ_level_three_options\u001b[49m\u001b[43m,\u001b[49m\u001b[43m \u001b[49m\u001b[43mstate\u001b[49m\u001b[43m,\u001b[49m\u001b[43m \u001b[49m\u001b[43moption\u001b[49m\u001b[43m,\u001b[49m\u001b[43m \u001b[49m\u001b[43moptact\u001b[49m\u001b[43m,\u001b[49m\u001b[43m \u001b[49m\u001b[43mpolicy\u001b[49m\u001b[43m,\u001b[49m\u001b[43m \u001b[49m\u001b[43mTAU\u001b[49m\u001b[43m)\u001b[49m\n\u001b[1;32m     41\u001b[0m     reward_bar \u001b[38;5;241m+\u001b[39m\u001b[38;5;241m=\u001b[39m reward\n\u001b[1;32m     42\u001b[0m     steps \u001b[38;5;241m+\u001b[39m\u001b[38;5;241m=\u001b[39m steps_level_2\n",
      "Cell \u001b[0;32mIn[87], line 132\u001b[0m, in \u001b[0;36mexecute_level_2_options\u001b[0;34m(env, Q_level_two_options, Q_level_three_options, state, option_level_1, option_level_2, policy, TAU)\u001b[0m\n\u001b[1;32m    121\u001b[0m \u001b[38;5;250m\u001b[39m\u001b[38;5;124;03m\"\"\"\u001b[39;00m\n\u001b[1;32m    122\u001b[0m \u001b[38;5;124;03mWhile the option is not done, do the following:\u001b[39;00m\n\u001b[1;32m    123\u001b[0m \u001b[38;5;124;03mDecode the state\u001b[39;00m\n\u001b[0;32m   (...)\u001b[0m\n\u001b[1;32m    129\u001b[0m \u001b[38;5;124;03mUpdate the Q-values for the chosen action based on the reward and the Q-values for the next state\u001b[39;00m\n\u001b[1;32m    130\u001b[0m \u001b[38;5;124;03m\"\"\"\u001b[39;00m\n\u001b[1;32m    131\u001b[0m state_value \u001b[38;5;241m=\u001b[39m \u001b[38;5;241m5\u001b[39m \u001b[38;5;241m*\u001b[39m decode_state(env, state)[\u001b[38;5;241m0\u001b[39m] \u001b[38;5;241m+\u001b[39m decode_state(env, state)[\u001b[38;5;241m1\u001b[39m]\n\u001b[0;32m--> 132\u001b[0m optact \u001b[38;5;241m=\u001b[39m \u001b[43mpolicy\u001b[49m\u001b[43m(\u001b[49m\u001b[43mchosen_q\u001b[49m\u001b[43m,\u001b[49m\u001b[43m \u001b[49m\u001b[43mstate_value\u001b[49m\u001b[43m,\u001b[49m\u001b[43m \u001b[49m\u001b[43mTAU\u001b[49m\u001b[43m)\u001b[49m\n\u001b[1;32m    133\u001b[0m next_state, reward, done, _, _ \u001b[38;5;241m=\u001b[39m env\u001b[38;5;241m.\u001b[39mstep(optact)\n\u001b[1;32m    134\u001b[0m next_state_value \u001b[38;5;241m=\u001b[39m \u001b[38;5;241m5\u001b[39m \u001b[38;5;241m*\u001b[39m decode_state(env, next_state)[\u001b[38;5;241m0\u001b[39m] \u001b[38;5;241m+\u001b[39m decode_state(env, next_state)[\u001b[38;5;241m1\u001b[39m]\n",
      "Cell \u001b[0;32mIn[84], line 37\u001b[0m, in \u001b[0;36mepsilon_greedy\u001b[0;34m(Q, state, epsilon)\u001b[0m\n\u001b[1;32m     35\u001b[0m     action \u001b[38;5;241m=\u001b[39m np\u001b[38;5;241m.\u001b[39mrandom\u001b[38;5;241m.\u001b[39mrandint(\u001b[38;5;241m0\u001b[39m, \u001b[38;5;241m4\u001b[39m)\n\u001b[1;32m     36\u001b[0m \u001b[38;5;28;01melse\u001b[39;00m:\n\u001b[0;32m---> 37\u001b[0m     action \u001b[38;5;241m=\u001b[39m \u001b[43mnp\u001b[49m\u001b[38;5;241;43m.\u001b[39;49m\u001b[43margmax\u001b[49m\u001b[43m(\u001b[49m\u001b[43mQ\u001b[49m\u001b[43m[\u001b[49m\u001b[43mstate\u001b[49m\u001b[43m]\u001b[49m\u001b[43m)\u001b[49m\n\u001b[1;32m     38\u001b[0m \u001b[38;5;28;01mreturn\u001b[39;00m action\n",
      "File \u001b[0;32m~/miniconda3/envs/rl/lib/python3.11/site-packages/numpy/core/fromnumeric.py:1229\u001b[0m, in \u001b[0;36margmax\u001b[0;34m(a, axis, out, keepdims)\u001b[0m\n\u001b[1;32m   1142\u001b[0m \u001b[38;5;250m\u001b[39m\u001b[38;5;124;03m\"\"\"\u001b[39;00m\n\u001b[1;32m   1143\u001b[0m \u001b[38;5;124;03mReturns the indices of the maximum values along an axis.\u001b[39;00m\n\u001b[1;32m   1144\u001b[0m \n\u001b[0;32m   (...)\u001b[0m\n\u001b[1;32m   1226\u001b[0m \u001b[38;5;124;03m(2, 1, 4)\u001b[39;00m\n\u001b[1;32m   1227\u001b[0m \u001b[38;5;124;03m\"\"\"\u001b[39;00m\n\u001b[1;32m   1228\u001b[0m kwds \u001b[38;5;241m=\u001b[39m {\u001b[38;5;124m'\u001b[39m\u001b[38;5;124mkeepdims\u001b[39m\u001b[38;5;124m'\u001b[39m: keepdims} \u001b[38;5;28;01mif\u001b[39;00m keepdims \u001b[38;5;129;01mis\u001b[39;00m \u001b[38;5;129;01mnot\u001b[39;00m np\u001b[38;5;241m.\u001b[39m_NoValue \u001b[38;5;28;01melse\u001b[39;00m {}\n\u001b[0;32m-> 1229\u001b[0m \u001b[38;5;28;01mreturn\u001b[39;00m \u001b[43m_wrapfunc\u001b[49m\u001b[43m(\u001b[49m\u001b[43ma\u001b[49m\u001b[43m,\u001b[49m\u001b[43m \u001b[49m\u001b[38;5;124;43m'\u001b[39;49m\u001b[38;5;124;43margmax\u001b[39;49m\u001b[38;5;124;43m'\u001b[39;49m\u001b[43m,\u001b[49m\u001b[43m \u001b[49m\u001b[43maxis\u001b[49m\u001b[38;5;241;43m=\u001b[39;49m\u001b[43maxis\u001b[49m\u001b[43m,\u001b[49m\u001b[43m \u001b[49m\u001b[43mout\u001b[49m\u001b[38;5;241;43m=\u001b[39;49m\u001b[43mout\u001b[49m\u001b[43m,\u001b[49m\u001b[43m \u001b[49m\u001b[38;5;241;43m*\u001b[39;49m\u001b[38;5;241;43m*\u001b[39;49m\u001b[43mkwds\u001b[49m\u001b[43m)\u001b[49m\n",
      "File \u001b[0;32m~/miniconda3/envs/rl/lib/python3.11/site-packages/numpy/core/fromnumeric.py:53\u001b[0m, in \u001b[0;36m_wrapfunc\u001b[0;34m(obj, method, *args, **kwds)\u001b[0m\n\u001b[1;32m     49\u001b[0m         result \u001b[38;5;241m=\u001b[39m wrap(result)\n\u001b[1;32m     50\u001b[0m     \u001b[38;5;28;01mreturn\u001b[39;00m result\n\u001b[0;32m---> 53\u001b[0m \u001b[38;5;28;01mdef\u001b[39;00m \u001b[38;5;21m_wrapfunc\u001b[39m(obj, method, \u001b[38;5;241m*\u001b[39margs, \u001b[38;5;241m*\u001b[39m\u001b[38;5;241m*\u001b[39mkwds):\n\u001b[1;32m     54\u001b[0m     bound \u001b[38;5;241m=\u001b[39m \u001b[38;5;28mgetattr\u001b[39m(obj, method, \u001b[38;5;28;01mNone\u001b[39;00m)\n\u001b[1;32m     55\u001b[0m     \u001b[38;5;28;01mif\u001b[39;00m bound \u001b[38;5;129;01mis\u001b[39;00m \u001b[38;5;28;01mNone\u001b[39;00m:\n",
      "\u001b[0;31mKeyboardInterrupt\u001b[0m: "
     ]
    }
   ],
   "source": [
    "Q_level_one_options, Q_level_two_options, Q_level_three_options, total_rewards = SMDP_Q_Learning(env, Q_level_one_options, Q_level_two_options, Q_level_three_options, epsilon_greedy, TAU, DECAY_CONSTANT, episodes)"
   ]
  },
  {
   "cell_type": "code",
   "execution_count": null,
   "metadata": {},
   "outputs": [
    {
     "data": {
      "image/png": "[encoded data removed]",
      "text/plain": [
       "<Figure size 640x480 with 1 Axes>"
      ]
     },
     "metadata": {},
     "output_type": "display_data"
    }
   ],
   "source": [
    "def plot_rewards(rewards):\n",
    "    avg_rew = []\n",
    "    std_dev = []\n",
    "    plt.figure(\"Reward Plot\")\n",
    "    scores_window = deque(maxlen=300)\n",
    "    for reward in rewards:\n",
    "        scores_window.append(reward)\n",
    "        avg_rew.append(np.mean(scores_window))\n",
    "        std_dev.append(np.std(scores_window))\n",
    "    plt.plot(avg_rew)\n",
    "    plt.fill_between(range(len(avg_rew)), np.subtract(avg_rew, std_dev), np.add(avg_rew, std_dev), color='b', alpha=0.1)\n",
    "    plt.xlabel('Episodes')\n",
    "    plt.ylabel('Average Reward')\n",
    "    plt.ylim(-500, 200)  # Set the Y-axis range\n",
    "\n",
    "plot_rewards(total_rewards)"
   ]
  },
  {
   "cell_type": "code",
   "execution_count": null,
   "metadata": {},
   "outputs": [
    {
     "name": "stdout",
     "output_type": "stream",
     "text": [
      "7.98\n"
     ]
    }
   ],
   "source": [
    "print(np.mean(total_rewards[-100:]))"
   ]
  },
  {
   "cell_type": "code",
   "execution_count": null,
   "metadata": {},
   "outputs": [],
   "source": []
  }
 ],
 "metadata": {
  "kernelspec": {
   "display_name": "rl",
   "language": "python",
   "name": "python3"
  },
  "language_info": {
   "codemirror_mode": {
    "name": "ipython",
    "version": 3
   },
   "file_extension": ".py",
   "mimetype": "text/x-python",
   "name": "python",
   "nbconvert_exporter": "python",
   "pygments_lexer": "ipython3",
   "version": "3.11.7"
  }
 },
 "nbformat": 4,
 "nbformat_minor": 2
}
