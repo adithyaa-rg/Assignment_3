{
 "cells": [
  {
   "cell_type": "code",
   "execution_count": 17,
   "metadata": {},
   "outputs": [],
   "source": [
    "import numpy as np\n",
    "from tqdm import tqdm\n",
    "import random\n",
    "import gymnasium as gym\n",
    "import glob\n",
    "import io\n",
    "import matplotlib.pyplot as plt\n",
    "from IPython.display import HTML\n",
    "from collections import deque"
   ]
  },
  {
   "cell_type": "code",
   "execution_count": 18,
   "metadata": {},
   "outputs": [
    {
     "name": "stdout",
     "output_type": "stream",
     "text": [
      "253\n",
      "decoded state\n",
      "[2, 2, 3, 1]\n",
      "500\n",
      "6\n",
      "(153, -1, False, False, {'prob': 1.0, 'action_mask': array([1, 1, 1, 0, 0, 0], dtype=int8)})\n"
     ]
    },
    {
     "name": "stderr",
     "output_type": "stream",
     "text": [
      "c:\\Users\\maste\\AppData\\Local\\Programs\\Python\\Python310\\lib\\site-packages\\gymnasium\\core.py:311: UserWarning: \u001b[33mWARN: env.decode to get variables from other wrappers is deprecated and will be removed in v1.0, to get this variable you can do `env.unwrapped.decode` for environment variables or `env.get_wrapper_attr('decode')` that will search the reminding wrappers.\u001b[0m\n",
      "  logger.warn(\n"
     ]
    },
    {
     "data": {
      "text/plain": [
       "'+---------+\\n|R: |\\x1b[43m \\x1b[0m: :\\x1b[35mG\\x1b[0m|\\n| : | : : |\\n| : : : : |\\n| | : | : |\\n|Y| : |\\x1b[34;1mB\\x1b[0m: |\\n+---------+\\n  (North)\\n'"
      ]
     },
     "execution_count": 18,
     "metadata": {},
     "output_type": "execute_result"
    }
   ],
   "source": [
    "#Setting up the environment\n",
    "env = gym.make('Taxi-v3', render_mode='ansi')\n",
    "state, _ = env.reset()\n",
    "\n",
    "# The state of the environment\n",
    "print(state)\n",
    "\n",
    "print(\"decoded state\")\n",
    "print(list(env.decode(state)))\n",
    "\n",
    "#The number of states in the environment\n",
    "print(env.observation_space.n)\n",
    "\n",
    "#The number of actions in the environment\n",
    "print(env.action_space.n)\n",
    "\n",
    "#Take a step in the environment\n",
    "print(env.step(1))\n",
    "next_state, reward, done, _, _ = env.step(1)\n",
    "\n",
    "#Render the environment\n",
    "env.render()"
   ]
  },
  {
   "cell_type": "code",
   "execution_count": 19,
   "metadata": {},
   "outputs": [
    {
     "name": "stdout",
     "output_type": "stream",
     "text": [
      "(500, 6)\n",
      "(25, 4)\n"
     ]
    }
   ],
   "source": [
    "prim_actions = 6\n",
    "total_options = 10\n",
    "Q_values = np.zeros((env.observation_space.n, total_options))\n",
    "Q_options = np.zeros((4, 25, prim_actions-2))\n",
    "print(Q_values[:,:6].shape)\n",
    "print(Q_options[0].shape)\n",
    "\n",
    "# Add parameters you might need here\n",
    "gamma = 0.9\n",
    "alpha = 0.1\n",
    "\n",
    "# Softmax function\n",
    "def softmax(Q_values, state, tau):\n",
    "    q_values = Q_values[state]\n",
    "    q_values = q_values / tau\n",
    "    max_q = np.max(q_values)\n",
    "    e = np.exp(q_values - max_q)\n",
    "    dist = e / np.sum(e)\n",
    "    action = np.random.choice(len(dist), p=dist)\n",
    "    return action"
   ]
  },
  {
   "cell_type": "code",
   "execution_count": 20,
   "metadata": {},
   "outputs": [],
   "source": [
    "# actions:  ['up', 'right', 'down', 'left', 'pickup', 'dropoff']\n",
    "actions = [0, 1, 2, 3, 4, 5]\n",
    "\n",
    "# options: ['toR', 'toG', 'toY', 'toB']\n",
    "options = [6, 7, 8, 9]\n",
    "\n",
    "goals = [[0,0], [0,4], [4,0], [4,3]]\n",
    "\n",
    "def decode_state(state):\n",
    "    return list(env.decode(state))\n",
    "\n",
    "def grid_pos(state):\n",
    "    return state[0]*5+state[1]\n",
    "\n",
    "def execute_option(state, option):\n",
    "    optdone = False\n",
    "    done = False\n",
    "    reward_bar = 0\n",
    "    count = 0\n",
    "    optnum = option-6\n",
    "    \n",
    "    decoded_state = decode_state(state)\n",
    "    if decoded_state[:2] == goals[optnum]:\n",
    "        optdone = True \n",
    "\n",
    "    while not optdone: \n",
    "        grid_state = grid_pos(decode_state(state))\n",
    "        optact = softmax(Q_values=Q_options[optnum], state=grid_state, tau=1)\n",
    "        next_state, reward, done, _, _ = env.step(optact)\n",
    "        reward_bar = reward_bar + gamma**count*reward\n",
    "        count += 1\n",
    "        Q_options[optnum, grid_state] += alpha*(reward + gamma*np.max(Q_options[optnum, grid_pos(decode_state(next_state))]) - Q_options[optnum, grid_state])\n",
    "        state = next_state\n",
    "        decoded_state = decode_state(state)\n",
    "        if decoded_state[:2] == goals[optnum]:\n",
    "            optdone = True \n",
    "        if done:\n",
    "            return reward_bar, state, done, count\n",
    "    \n",
    "    return reward_bar, state, done, count\n",
    "        "
   ]
  },
  {
   "cell_type": "code",
   "execution_count": 21,
   "metadata": {},
   "outputs": [
    {
     "name": "stderr",
     "output_type": "stream",
     "text": [
      "  0%|          | 0/25000 [00:00<?, ?it/s]"
     ]
    },
    {
     "name": "stderr",
     "output_type": "stream",
     "text": [
      "100%|██████████| 25000/25000 [12:44<00:00, 32.69it/s] \n"
     ]
    }
   ],
   "source": [
    "#### SMDP Q-Learning \n",
    "\n",
    "# Iterate over 1000 episodes\n",
    "\n",
    "total_rewards = np.zeros(25000)\n",
    "for ix in tqdm(range(25000)):\n",
    "    state, _ = env.reset()\n",
    "    done = False\n",
    "\n",
    "    # While episode is not over\n",
    "    while not done:\n",
    "        # Choose action        \n",
    "        action = softmax(Q_values, state, tau=1)\n",
    "        # Checking if primitive action\n",
    "        if action < 6:\n",
    "            # Perform regular Q-Learning update for state-action pair\n",
    "            next_state, reward, done, _, _ = env.step(action)\n",
    "            Q_values[state, action] += alpha * (reward + gamma * np.max(Q_values[next_state]) - Q_values[state, action])\n",
    "            total_rewards[ix] += reward\n",
    "            state = next_state\n",
    "            \n",
    "        # Checking if action chosen is an option\n",
    "        if action >= 6:\n",
    "            reward_bar, next_state, done, count = execute_option(state, action)\n",
    "            Q_values[state, action] += alpha * (reward_bar - Q_values[state, action] + gamma**count * np.max(Q_values[next_state]))\n",
    "            total_rewards[ix] += reward_bar\n",
    "            state = next_state\n"
   ]
  },
  {
   "cell_type": "code",
   "execution_count": 22,
   "metadata": {},
   "outputs": [],
   "source": [
    "def plot_rewards(rewards):\n",
    "    avg_rew = []\n",
    "    plt.figure(\"Reward Plot\")\n",
    "    scores_window = deque(maxlen=300)\n",
    "    for reward in rewards:\n",
    "        scores_window.append(reward)\n",
    "        avg_rew.append(np.mean(scores_window))\n",
    "    plt.plot(avg_rew)"
   ]
  },
  {
   "cell_type": "code",
   "execution_count": 23,
   "metadata": {},
   "outputs": [
    {
     "data": {
      "image/png": "[encoded data removed]",
      "text/plain": [
       "<Figure size 640x480 with 1 Axes>"
      ]
     },
     "metadata": {},
     "output_type": "display_data"
    }
   ],
   "source": [
    "plot_rewards(total_rewards)"
   ]
  }
 ],
 "metadata": {
  "kernelspec": {
   "display_name": "rl",
   "language": "python",
   "name": "python3"
  },
  "language_info": {
   "codemirror_mode": {
    "name": "ipython",
    "version": 3
   },
   "file_extension": ".py",
   "mimetype": "text/x-python",
   "name": "python",
   "nbconvert_exporter": "python",
   "pygments_lexer": "ipython3",
   "version": "3.10.0"
  }
 },
 "nbformat": 4,
 "nbformat_minor": 2
}
